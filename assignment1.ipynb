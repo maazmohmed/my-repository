{
 "cells": [
  {
   "cell_type": "code",
   "execution_count": null,
   "metadata": {},
   "outputs": [],
   "source": [
    "#Q1\n",
    "line=[]\n",
    "x=range(2000,3200)\n",
    "for n in x:\n",
    "    if(n%7) == 0 and n%5 != 0:\n",
    "        line.append(str(n))\n",
    "print(','.join(line))\n",
    "     \n",
    "     "
   ]
  },
  {
   "cell_type": "code",
   "execution_count": null,
   "metadata": {},
   "outputs": [],
   "source": [
    "#q2\n",
    "def my_function(x):\n",
    "    return x[::-1]\n",
    "\n",
    "\n",
    "fn=my_function(input(\"Enter first name\"))\n",
    "\n",
    "ln=my_function(input(\"enter last name\"))\n",
    "print(fn + \" \" + ln)"
   ]
  },
  {
   "cell_type": "code",
   "execution_count": null,
   "metadata": {},
   "outputs": [],
   "source": [
    "#Q3\n",
    "#diameter=12\n",
    "r=6\n",
    "volume=(4*3.14*r*r*r)/3\n",
    "print(volume)"
   ]
  },
  {
   "cell_type": "code",
   "execution_count": null,
   "metadata": {},
   "outputs": [],
   "source": []
  }
 ],
 "metadata": {
  "kernelspec": {
   "display_name": "Python 3",
   "language": "python",
   "name": "python3"
  },
  "language_info": {
   "codemirror_mode": {
    "name": "ipython",
    "version": 3
   },
   "file_extension": ".py",
   "mimetype": "text/x-python",
   "name": "python",
   "nbconvert_exporter": "python",
   "pygments_lexer": "ipython3",
   "version": "3.7.3"
  }
 },
 "nbformat": 4,
 "nbformat_minor": 2
}
